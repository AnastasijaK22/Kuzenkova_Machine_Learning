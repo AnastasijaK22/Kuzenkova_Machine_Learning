{
 "cells": [
  {
   "cell_type": "code",
   "execution_count": 1,
   "id": "c3307299",
   "metadata": {},
   "outputs": [],
   "source": [
    "import numpy as np\n",
    "import matplotlib.pyplot as plt\n",
    "import pandas as pd\n",
    "import seaborn as sns\n",
    "%matplotlib inline"
   ]
  },
  {
   "cell_type": "markdown",
   "id": "7e5d38e2",
   "metadata": {},
   "source": [
    "## Загружаем данные и готовим их к работе:"
   ]
  },
  {
   "cell_type": "code",
   "execution_count": 2,
   "id": "73357bfd",
   "metadata": {},
   "outputs": [],
   "source": [
    "data = pd.read_csv('GrandMaster_Ranked_Games.csv')"
   ]
  },
  {
   "cell_type": "code",
   "execution_count": 3,
   "id": "d058a135",
   "metadata": {},
   "outputs": [
    {
     "data": {
      "text/html": [
       "<div>\n",
       "<style scoped>\n",
       "    .dataframe tbody tr th:only-of-type {\n",
       "        vertical-align: middle;\n",
       "    }\n",
       "\n",
       "    .dataframe tbody tr th {\n",
       "        vertical-align: top;\n",
       "    }\n",
       "\n",
       "    .dataframe thead th {\n",
       "        text-align: right;\n",
       "    }\n",
       "</style>\n",
       "<table border=\"1\" class=\"dataframe\">\n",
       "  <thead>\n",
       "    <tr style=\"text-align: right;\">\n",
       "      <th></th>\n",
       "      <th>gameId</th>\n",
       "      <th>gameDuraton</th>\n",
       "      <th>blueWins</th>\n",
       "      <th>blueFirstBlood</th>\n",
       "      <th>blueFirstTower</th>\n",
       "      <th>blueFirstBaron</th>\n",
       "      <th>blueFirstDragon</th>\n",
       "      <th>blueFirstInhibitor</th>\n",
       "      <th>blueDragonKills</th>\n",
       "      <th>blueBaronKills</th>\n",
       "      <th>...</th>\n",
       "      <th>redAssist</th>\n",
       "      <th>redChampionDamageDealt</th>\n",
       "      <th>redTotalGold</th>\n",
       "      <th>redTotalMinionKills</th>\n",
       "      <th>redTotalLevel</th>\n",
       "      <th>redAvgLevel</th>\n",
       "      <th>redJungleMinionKills</th>\n",
       "      <th>redKillingSpree</th>\n",
       "      <th>redTotalHeal</th>\n",
       "      <th>redObjectDamageDealt</th>\n",
       "    </tr>\n",
       "  </thead>\n",
       "  <tbody>\n",
       "    <tr>\n",
       "      <th>0</th>\n",
       "      <td>4241678498</td>\n",
       "      <td>2098</td>\n",
       "      <td>0</td>\n",
       "      <td>0</td>\n",
       "      <td>0</td>\n",
       "      <td>1</td>\n",
       "      <td>1</td>\n",
       "      <td>0</td>\n",
       "      <td>1</td>\n",
       "      <td>1</td>\n",
       "      <td>...</td>\n",
       "      <td>72</td>\n",
       "      <td>125866</td>\n",
       "      <td>70528</td>\n",
       "      <td>832</td>\n",
       "      <td>84</td>\n",
       "      <td>16.8</td>\n",
       "      <td>205</td>\n",
       "      <td>9</td>\n",
       "      <td>65312</td>\n",
       "      <td>88202</td>\n",
       "    </tr>\n",
       "    <tr>\n",
       "      <th>1</th>\n",
       "      <td>4233222221</td>\n",
       "      <td>1686</td>\n",
       "      <td>0</td>\n",
       "      <td>0</td>\n",
       "      <td>1</td>\n",
       "      <td>0</td>\n",
       "      <td>0</td>\n",
       "      <td>0</td>\n",
       "      <td>0</td>\n",
       "      <td>0</td>\n",
       "      <td>...</td>\n",
       "      <td>59</td>\n",
       "      <td>78424</td>\n",
       "      <td>58032</td>\n",
       "      <td>640</td>\n",
       "      <td>73</td>\n",
       "      <td>14.6</td>\n",
       "      <td>214</td>\n",
       "      <td>5</td>\n",
       "      <td>31415</td>\n",
       "      <td>61040</td>\n",
       "    </tr>\n",
       "    <tr>\n",
       "      <th>2</th>\n",
       "      <td>4233113995</td>\n",
       "      <td>1588</td>\n",
       "      <td>1</td>\n",
       "      <td>1</td>\n",
       "      <td>1</td>\n",
       "      <td>1</td>\n",
       "      <td>0</td>\n",
       "      <td>1</td>\n",
       "      <td>2</td>\n",
       "      <td>1</td>\n",
       "      <td>...</td>\n",
       "      <td>30</td>\n",
       "      <td>62134</td>\n",
       "      <td>47408</td>\n",
       "      <td>608</td>\n",
       "      <td>63</td>\n",
       "      <td>12.6</td>\n",
       "      <td>133</td>\n",
       "      <td>5</td>\n",
       "      <td>27846</td>\n",
       "      <td>32107</td>\n",
       "    </tr>\n",
       "    <tr>\n",
       "      <th>3</th>\n",
       "      <td>4229230455</td>\n",
       "      <td>1126</td>\n",
       "      <td>1</td>\n",
       "      <td>0</td>\n",
       "      <td>1</td>\n",
       "      <td>0</td>\n",
       "      <td>1</td>\n",
       "      <td>0</td>\n",
       "      <td>1</td>\n",
       "      <td>0</td>\n",
       "      <td>...</td>\n",
       "      <td>13</td>\n",
       "      <td>32999</td>\n",
       "      <td>32064</td>\n",
       "      <td>461</td>\n",
       "      <td>53</td>\n",
       "      <td>10.6</td>\n",
       "      <td>92</td>\n",
       "      <td>3</td>\n",
       "      <td>23511</td>\n",
       "      <td>10775</td>\n",
       "    </tr>\n",
       "    <tr>\n",
       "      <th>4</th>\n",
       "      <td>4228244819</td>\n",
       "      <td>1262</td>\n",
       "      <td>1</td>\n",
       "      <td>0</td>\n",
       "      <td>0</td>\n",
       "      <td>0</td>\n",
       "      <td>1</td>\n",
       "      <td>1</td>\n",
       "      <td>3</td>\n",
       "      <td>0</td>\n",
       "      <td>...</td>\n",
       "      <td>5</td>\n",
       "      <td>35272</td>\n",
       "      <td>35372</td>\n",
       "      <td>506</td>\n",
       "      <td>54</td>\n",
       "      <td>10.8</td>\n",
       "      <td>113</td>\n",
       "      <td>2</td>\n",
       "      <td>17891</td>\n",
       "      <td>24158</td>\n",
       "    </tr>\n",
       "    <tr>\n",
       "      <th>...</th>\n",
       "      <td>...</td>\n",
       "      <td>...</td>\n",
       "      <td>...</td>\n",
       "      <td>...</td>\n",
       "      <td>...</td>\n",
       "      <td>...</td>\n",
       "      <td>...</td>\n",
       "      <td>...</td>\n",
       "      <td>...</td>\n",
       "      <td>...</td>\n",
       "      <td>...</td>\n",
       "      <td>...</td>\n",
       "      <td>...</td>\n",
       "      <td>...</td>\n",
       "      <td>...</td>\n",
       "      <td>...</td>\n",
       "      <td>...</td>\n",
       "      <td>...</td>\n",
       "      <td>...</td>\n",
       "      <td>...</td>\n",
       "      <td>...</td>\n",
       "    </tr>\n",
       "    <tr>\n",
       "      <th>65891</th>\n",
       "      <td>3868504952</td>\n",
       "      <td>1928</td>\n",
       "      <td>0</td>\n",
       "      <td>1</td>\n",
       "      <td>0</td>\n",
       "      <td>0</td>\n",
       "      <td>0</td>\n",
       "      <td>0</td>\n",
       "      <td>2</td>\n",
       "      <td>0</td>\n",
       "      <td>...</td>\n",
       "      <td>60</td>\n",
       "      <td>94554</td>\n",
       "      <td>72361</td>\n",
       "      <td>804</td>\n",
       "      <td>80</td>\n",
       "      <td>16.0</td>\n",
       "      <td>209</td>\n",
       "      <td>10</td>\n",
       "      <td>57739</td>\n",
       "      <td>72450</td>\n",
       "    </tr>\n",
       "    <tr>\n",
       "      <th>65892</th>\n",
       "      <td>4110201724</td>\n",
       "      <td>1837</td>\n",
       "      <td>1</td>\n",
       "      <td>1</td>\n",
       "      <td>0</td>\n",
       "      <td>0</td>\n",
       "      <td>1</td>\n",
       "      <td>0</td>\n",
       "      <td>3</td>\n",
       "      <td>0</td>\n",
       "      <td>...</td>\n",
       "      <td>29</td>\n",
       "      <td>88366</td>\n",
       "      <td>52625</td>\n",
       "      <td>660</td>\n",
       "      <td>70</td>\n",
       "      <td>14.0</td>\n",
       "      <td>168</td>\n",
       "      <td>5</td>\n",
       "      <td>25003</td>\n",
       "      <td>45455</td>\n",
       "    </tr>\n",
       "    <tr>\n",
       "      <th>65893</th>\n",
       "      <td>4100240254</td>\n",
       "      <td>948</td>\n",
       "      <td>1</td>\n",
       "      <td>1</td>\n",
       "      <td>1</td>\n",
       "      <td>0</td>\n",
       "      <td>0</td>\n",
       "      <td>0</td>\n",
       "      <td>1</td>\n",
       "      <td>0</td>\n",
       "      <td>...</td>\n",
       "      <td>3</td>\n",
       "      <td>16574</td>\n",
       "      <td>20972</td>\n",
       "      <td>351</td>\n",
       "      <td>40</td>\n",
       "      <td>8.0</td>\n",
       "      <td>56</td>\n",
       "      <td>0</td>\n",
       "      <td>7138</td>\n",
       "      <td>6808</td>\n",
       "    </tr>\n",
       "    <tr>\n",
       "      <th>65894</th>\n",
       "      <td>4216107910</td>\n",
       "      <td>2479</td>\n",
       "      <td>1</td>\n",
       "      <td>1</td>\n",
       "      <td>0</td>\n",
       "      <td>0</td>\n",
       "      <td>0</td>\n",
       "      <td>0</td>\n",
       "      <td>3</td>\n",
       "      <td>1</td>\n",
       "      <td>...</td>\n",
       "      <td>41</td>\n",
       "      <td>149798</td>\n",
       "      <td>72167</td>\n",
       "      <td>789</td>\n",
       "      <td>86</td>\n",
       "      <td>17.2</td>\n",
       "      <td>258</td>\n",
       "      <td>6</td>\n",
       "      <td>34890</td>\n",
       "      <td>62124</td>\n",
       "    </tr>\n",
       "    <tr>\n",
       "      <th>65895</th>\n",
       "      <td>4195660684</td>\n",
       "      <td>1129</td>\n",
       "      <td>1</td>\n",
       "      <td>0</td>\n",
       "      <td>1</td>\n",
       "      <td>0</td>\n",
       "      <td>0</td>\n",
       "      <td>1</td>\n",
       "      <td>1</td>\n",
       "      <td>0</td>\n",
       "      <td>...</td>\n",
       "      <td>4</td>\n",
       "      <td>33263</td>\n",
       "      <td>26963</td>\n",
       "      <td>423</td>\n",
       "      <td>47</td>\n",
       "      <td>9.4</td>\n",
       "      <td>71</td>\n",
       "      <td>1</td>\n",
       "      <td>12749</td>\n",
       "      <td>8035</td>\n",
       "    </tr>\n",
       "  </tbody>\n",
       "</table>\n",
       "<p>65896 rows × 50 columns</p>\n",
       "</div>"
      ],
      "text/plain": [
       "           gameId  gameDuraton  blueWins  blueFirstBlood  blueFirstTower  \\\n",
       "0      4241678498         2098         0               0               0   \n",
       "1      4233222221         1686         0               0               1   \n",
       "2      4233113995         1588         1               1               1   \n",
       "3      4229230455         1126         1               0               1   \n",
       "4      4228244819         1262         1               0               0   \n",
       "...           ...          ...       ...             ...             ...   \n",
       "65891  3868504952         1928         0               1               0   \n",
       "65892  4110201724         1837         1               1               0   \n",
       "65893  4100240254          948         1               1               1   \n",
       "65894  4216107910         2479         1               1               0   \n",
       "65895  4195660684         1129         1               0               1   \n",
       "\n",
       "       blueFirstBaron  blueFirstDragon  blueFirstInhibitor  blueDragonKills  \\\n",
       "0                   1                1                   0                1   \n",
       "1                   0                0                   0                0   \n",
       "2                   1                0                   1                2   \n",
       "3                   0                1                   0                1   \n",
       "4                   0                1                   1                3   \n",
       "...               ...              ...                 ...              ...   \n",
       "65891               0                0                   0                2   \n",
       "65892               0                1                   0                3   \n",
       "65893               0                0                   0                1   \n",
       "65894               0                0                   0                3   \n",
       "65895               0                0                   1                1   \n",
       "\n",
       "       blueBaronKills  ...  redAssist  redChampionDamageDealt  redTotalGold  \\\n",
       "0                   1  ...         72                  125866         70528   \n",
       "1                   0  ...         59                   78424         58032   \n",
       "2                   1  ...         30                   62134         47408   \n",
       "3                   0  ...         13                   32999         32064   \n",
       "4                   0  ...          5                   35272         35372   \n",
       "...               ...  ...        ...                     ...           ...   \n",
       "65891               0  ...         60                   94554         72361   \n",
       "65892               0  ...         29                   88366         52625   \n",
       "65893               0  ...          3                   16574         20972   \n",
       "65894               1  ...         41                  149798         72167   \n",
       "65895               0  ...          4                   33263         26963   \n",
       "\n",
       "       redTotalMinionKills  redTotalLevel  redAvgLevel  redJungleMinionKills  \\\n",
       "0                      832             84         16.8                   205   \n",
       "1                      640             73         14.6                   214   \n",
       "2                      608             63         12.6                   133   \n",
       "3                      461             53         10.6                    92   \n",
       "4                      506             54         10.8                   113   \n",
       "...                    ...            ...          ...                   ...   \n",
       "65891                  804             80         16.0                   209   \n",
       "65892                  660             70         14.0                   168   \n",
       "65893                  351             40          8.0                    56   \n",
       "65894                  789             86         17.2                   258   \n",
       "65895                  423             47          9.4                    71   \n",
       "\n",
       "       redKillingSpree  redTotalHeal  redObjectDamageDealt  \n",
       "0                    9         65312                 88202  \n",
       "1                    5         31415                 61040  \n",
       "2                    5         27846                 32107  \n",
       "3                    3         23511                 10775  \n",
       "4                    2         17891                 24158  \n",
       "...                ...           ...                   ...  \n",
       "65891               10         57739                 72450  \n",
       "65892                5         25003                 45455  \n",
       "65893                0          7138                  6808  \n",
       "65894                6         34890                 62124  \n",
       "65895                1         12749                  8035  \n",
       "\n",
       "[65896 rows x 50 columns]"
      ]
     },
     "execution_count": 3,
     "metadata": {},
     "output_type": "execute_result"
    }
   ],
   "source": [
    "data"
   ]
  },
  {
   "cell_type": "code",
   "execution_count": 4,
   "id": "7651f661",
   "metadata": {},
   "outputs": [],
   "source": [
    "data = data.loc[:,data.columns != 'gameId']"
   ]
  },
  {
   "cell_type": "code",
   "execution_count": 5,
   "id": "5d320c21",
   "metadata": {},
   "outputs": [],
   "source": [
    "binary_column = [c for c in data.columns if data[c].unique().shape == (2,)]\n",
    "numeric_column = [c for c in data.columns if data[c].unique().shape != (2,)]"
   ]
  },
  {
   "cell_type": "code",
   "execution_count": 6,
   "id": "cd6db2f1",
   "metadata": {},
   "outputs": [],
   "source": [
    "temp = data['blueWins'] > 2\n",
    "for c in numeric_column:\n",
    "    temp = temp | (data[c] < data[c].quantile(0.005)) | (data[c] > data[c].quantile(0.995))\n",
    "rows_to_drop = data[temp].index\n",
    "work_data = data.drop(rows_to_drop)"
   ]
  },
  {
   "cell_type": "code",
   "execution_count": 7,
   "id": "105b6f9c",
   "metadata": {},
   "outputs": [],
   "source": [
    "work_data_b = work_data.loc[:,binary_column]\n",
    "work_data_n = work_data.loc[:,numeric_column]\n",
    "stand = (work_data_n - work_data_n.mean(axis = 0))/work_data_n.std(axis = 0)"
   ]
  },
  {
   "cell_type": "code",
   "execution_count": 8,
   "id": "0f75fe76",
   "metadata": {},
   "outputs": [],
   "source": [
    "data_stand = pd.concat((stand, work_data_b), axis = 1)"
   ]
  },
  {
   "cell_type": "markdown",
   "id": "1066afa3",
   "metadata": {},
   "source": [
    "## Обучающая и тестовая выборки"
   ]
  },
  {
   "cell_type": "code",
   "execution_count": 9,
   "id": "55aab53f",
   "metadata": {},
   "outputs": [],
   "source": [
    "X = data_stand.drop(['blueWins','redWins'], axis=1)\n",
    "y = work_data['blueWins']"
   ]
  },
  {
   "cell_type": "code",
   "execution_count": 10,
   "id": "d26c2d69",
   "metadata": {},
   "outputs": [
    {
     "data": {
      "text/plain": [
       "(46075, 15359)"
      ]
     },
     "execution_count": 10,
     "metadata": {},
     "output_type": "execute_result"
    }
   ],
   "source": [
    "from sklearn.model_selection import train_test_split\n",
    "X_train, X_test, y_train, y_test = train_test_split(X, y, test_size = 0.25, random_state = 42)\n",
    "\n",
    "N_train, _ = X_train.shape \n",
    "N_test,  _ = X_test.shape \n",
    "\n",
    "N_train, N_test"
   ]
  },
  {
   "cell_type": "markdown",
   "id": "10ea7aa1",
   "metadata": {},
   "source": [
    "## Обучаем классификатор"
   ]
  },
  {
   "cell_type": "code",
   "execution_count": 11,
   "id": "09a00dd7",
   "metadata": {},
   "outputs": [],
   "source": [
    "from sklearn.neural_network import MLPClassifier"
   ]
  },
  {
   "cell_type": "code",
   "execution_count": 13,
   "id": "7debe221",
   "metadata": {},
   "outputs": [],
   "source": [
    "mlp_model = MLPClassifier(hidden_layer_sizes = (4,),\n",
    "                          solver = 'lbfgs', \n",
    "                          activation = 'logistic',\n",
    "                          random_state = 42)"
   ]
  },
  {
   "cell_type": "code",
   "execution_count": 14,
   "id": "768615eb",
   "metadata": {},
   "outputs": [
    {
     "name": "stdout",
     "output_type": "stream",
     "text": [
      "Wall time: 2.13 s\n"
     ]
    },
    {
     "data": {
      "text/plain": [
       "MLPClassifier(activation='logistic', hidden_layer_sizes=(4,), random_state=42,\n",
       "              solver='lbfgs')"
      ]
     },
     "execution_count": 14,
     "metadata": {},
     "output_type": "execute_result"
    }
   ],
   "source": [
    "%%time\n",
    "mlp_model.fit(X_train, y_train)"
   ]
  },
  {
   "cell_type": "code",
   "execution_count": 15,
   "id": "c9d5d886",
   "metadata": {},
   "outputs": [
    {
     "name": "stdout",
     "output_type": "stream",
     "text": [
      "Синяя команда проиграла\n",
      "Предсказание проигрыш\n"
     ]
    }
   ],
   "source": [
    "No = 42\n",
    "if (y_test[No] == 0):\n",
    "    print(\"Синяя команда проиграла\")\n",
    "else:\n",
    "    print(\"Синяя команда выиграла\")\n",
    "\n",
    "predict = mlp_model.predict([X_test.loc[No,:]])[0]\n",
    "if (predict == 0):\n",
    "    print(\"Предсказание проигрыш\")\n",
    "else:\n",
    "    print(\"Предсказание победа\")"
   ]
  },
  {
   "cell_type": "code",
   "execution_count": 16,
   "id": "e2157258",
   "metadata": {},
   "outputs": [
    {
     "name": "stdout",
     "output_type": "stream",
     "text": [
      "Синяя команда проиграла\n",
      "Предсказание проигрыш\n"
     ]
    }
   ],
   "source": [
    "No = 26454\n",
    "if (y_test[No] == 0):\n",
    "    print(\"Синяя команда проиграла\")\n",
    "else:\n",
    "    print(\"Синяя команда выиграла\")\n",
    "\n",
    "predict = mlp_model.predict([X_test.loc[No,:]])[0]\n",
    "if (predict == 0):\n",
    "    print(\"Предсказание проигрыш\")\n",
    "else:\n",
    "    print(\"Предсказание победа\")"
   ]
  },
  {
   "cell_type": "markdown",
   "id": "ae4e317e",
   "metadata": {},
   "source": [
    "## Проверяем качество классификатора"
   ]
  },
  {
   "cell_type": "code",
   "execution_count": 17,
   "id": "b25ae3fd",
   "metadata": {},
   "outputs": [],
   "source": [
    "y_train_pred = mlp_model.predict(X_train)\n",
    "y_test_pred = mlp_model.predict(X_test)"
   ]
  },
  {
   "cell_type": "markdown",
   "id": "f32e3cb2",
   "metadata": {},
   "source": [
    "#### Ошибки на обучающей и тестовой выборках:"
   ]
  },
  {
   "cell_type": "code",
   "execution_count": 18,
   "id": "1702dabd",
   "metadata": {},
   "outputs": [
    {
     "name": "stdout",
     "output_type": "stream",
     "text": [
      "0.0031253391209983723 0.006445732144019793\n"
     ]
    }
   ],
   "source": [
    "print(np.mean(y_train != y_train_pred), np.mean(y_test != y_test_pred))"
   ]
  },
  {
   "cell_type": "code",
   "execution_count": 19,
   "id": "559e5de8",
   "metadata": {},
   "outputs": [],
   "source": [
    "from sklearn.metrics import accuracy_score"
   ]
  },
  {
   "cell_type": "code",
   "execution_count": 20,
   "id": "a8927029",
   "metadata": {},
   "outputs": [
    {
     "data": {
      "text/plain": [
       "0.9968746608790017"
      ]
     },
     "execution_count": 20,
     "metadata": {},
     "output_type": "execute_result"
    }
   ],
   "source": [
    "accuracy_score(y_train, y_train_pred)"
   ]
  },
  {
   "cell_type": "code",
   "execution_count": 21,
   "id": "e07b9536",
   "metadata": {},
   "outputs": [
    {
     "data": {
      "text/plain": [
       "0.9935542678559802"
      ]
     },
     "execution_count": 21,
     "metadata": {},
     "output_type": "execute_result"
    }
   ],
   "source": [
    "accuracy_score(y_test, y_test_pred)"
   ]
  },
  {
   "cell_type": "markdown",
   "id": "c932c99a",
   "metadata": {},
   "source": [
    "#### Подбор _гипер_параметров"
   ]
  },
  {
   "cell_type": "code",
   "execution_count": 76,
   "id": "dc705e71",
   "metadata": {},
   "outputs": [],
   "source": [
    "alpha_arr = np.logspace(-3, 2, 21)\n",
    "test_err = []\n",
    "train_err = []\n",
    "train_acc = []\n",
    "test_acc = []\n",
    "\n",
    "for alpha in alpha_arr:\n",
    "    mlp_model = MLPClassifier(alpha = alpha, hidden_layer_sizes = (100,), \n",
    "                              solver = 'lbfgs', activation = 'logistic', max_iter=1000, random_state = 42)\n",
    "    mlp_model.fit(X_train, y_train)\n",
    "\n",
    "    y_train_pred = mlp_model.predict(X_train)\n",
    "    y_test_pred = mlp_model.predict(X_test)\n",
    "    \n",
    "    train_err.append(np.mean(y_train != y_train_pred))\n",
    "    test_err.append(np.mean(y_test != y_test_pred))\n",
    "    train_acc.append(accuracy_score(y_train, y_train_pred))\n",
    "    test_acc.append(accuracy_score(y_test, y_test_pred))"
   ]
  },
  {
   "cell_type": "code",
   "execution_count": 77,
   "id": "a99c2bb2",
   "metadata": {},
   "outputs": [
    {
     "data": {
      "text/plain": [
       "<matplotlib.legend.Legend at 0x1d62f026fa0>"
      ]
     },
     "execution_count": 77,
     "metadata": {},
     "output_type": "execute_result"
    },
    {
     "data": {
      "image/png": "[encoded data removed]",
      "text/plain": [
       "<Figure size 432x288 with 1 Axes>"
      ]
     },
     "metadata": {
      "needs_background": "light"
     },
     "output_type": "display_data"
    }
   ],
   "source": [
    "plt.semilogx(alpha_arr, train_err, 'b-o', label = 'train')\n",
    "plt.semilogx(alpha_arr, test_err, 'r-o', label = 'test')\n",
    "plt.xlim([np.min(alpha_arr), np.max(alpha_arr)])\n",
    "plt.title('Error vs. alpha')\n",
    "plt.xlabel('alpha')\n",
    "plt.ylabel('error')\n",
    "plt.legend()"
   ]
  },
  {
   "cell_type": "code",
   "execution_count": 78,
   "id": "7f16b05c",
   "metadata": {},
   "outputs": [
    {
     "data": {
      "text/plain": [
       "<matplotlib.legend.Legend at 0x1d62f26eeb0>"
      ]
     },
     "execution_count": 78,
     "metadata": {},
     "output_type": "execute_result"
    },
    {
     "data": {
      "image/png": "[encoded data removed]",
      "text/plain": [
       "<Figure size 432x288 with 1 Axes>"
      ]
     },
     "metadata": {
      "needs_background": "light"
     },
     "output_type": "display_data"
    }
   ],
   "source": [
    "plt.semilogx(alpha_arr, train_acc, 'r-o', label = 'train')\n",
    "plt.semilogx(alpha_arr, test_acc, 'b-o', label = 'test')\n",
    "plt.xlim([np.min(alpha_arr), np.max(alpha_arr)])\n",
    "plt.title('Accuracy vs. alpha')\n",
    "plt.xlabel('alpha')\n",
    "plt.ylabel('Accuracy')\n",
    "plt.legend()"
   ]
  },
  {
   "cell_type": "markdown",
   "id": "570e6376",
   "metadata": {},
   "source": [
    "Минимальное значение ошибки:"
   ]
  },
  {
   "cell_type": "code",
   "execution_count": 79,
   "id": "8bb767d0",
   "metadata": {},
   "outputs": [
    {
     "name": "stdout",
     "output_type": "stream",
     "text": [
      "0.00017362995116657623 0.005794648089068299\n"
     ]
    }
   ],
   "source": [
    "min_train_err = np.min(train_err)\n",
    "min_test_err = np.min(test_err)\n",
    "print(min_train_err, min_test_err)"
   ]
  },
  {
   "cell_type": "markdown",
   "id": "aa847465",
   "metadata": {},
   "source": [
    "Оптимальное значение alpha:"
   ]
  },
  {
   "cell_type": "code",
   "execution_count": 80,
   "id": "b176f1e7",
   "metadata": {},
   "outputs": [
    {
     "name": "stdout",
     "output_type": "stream",
     "text": [
      "[0.17782794 0.56234133]\n"
     ]
    }
   ],
   "source": [
    "alpha_opt = alpha_arr[test_err == min_test_err]\n",
    "print(alpha_opt)"
   ]
  },
  {
   "cell_type": "code",
   "execution_count": 81,
   "id": "0857f4df",
   "metadata": {},
   "outputs": [],
   "source": [
    "alpha_opt = alpha_opt[0]"
   ]
  },
  {
   "cell_type": "markdown",
   "id": "6de564de",
   "metadata": {},
   "source": [
    "### Классификатор при найденном оптимальном значении alpha:"
   ]
  },
  {
   "cell_type": "code",
   "execution_count": 82,
   "id": "b244ffb6",
   "metadata": {},
   "outputs": [
    {
     "name": "stdout",
     "output_type": "stream",
     "text": [
      "0.0016928920238741183\n",
      "0.005794648089068299\n"
     ]
    }
   ],
   "source": [
    "mlp_model = MLPClassifier(alpha = alpha_opt, hidden_layer_sizes = (100,),\n",
    "                          solver = 'lbfgs', activation = 'logistic', random_state = 42)\n",
    "mlp_model.fit(X_train, y_train)\n",
    "\n",
    "y_train_pred = mlp_model.predict(X_train)\n",
    "y_test_pred = mlp_model.predict(X_test)\n",
    "print(np.mean(y_train != y_train_pred))\n",
    "print(np.mean(y_test != y_test_pred))"
   ]
  },
  {
   "cell_type": "markdown",
   "id": "0a543089",
   "metadata": {},
   "source": [
    "### Зависимость ошибки от числа нейронов"
   ]
  },
  {
   "cell_type": "code",
   "execution_count": 22,
   "id": "9b139196",
   "metadata": {},
   "outputs": [],
   "source": [
    "test_err = []\n",
    "train_err = []\n",
    "train_acc = []\n",
    "test_acc = []\n",
    "\n",
    "for k in range(3,50):\n",
    "    mlp_model = MLPClassifier(hidden_layer_sizes = (k,), \n",
    "                              solver = 'lbfgs', activation = 'logistic', max_iter=1000, random_state = 42)\n",
    "    mlp_model.fit(X_train, y_train)\n",
    "\n",
    "    y_train_pred = mlp_model.predict(X_train)\n",
    "    y_test_pred = mlp_model.predict(X_test)\n",
    "    \n",
    "    train_err.append(np.mean(y_train != y_train_pred))\n",
    "    test_err.append(np.mean(y_test != y_test_pred))\n",
    "    train_acc.append(accuracy_score(y_train, y_train_pred))\n",
    "    test_acc.append(accuracy_score(y_test, y_test_pred))"
   ]
  },
  {
   "cell_type": "code",
   "execution_count": 42,
   "id": "7c62b181",
   "metadata": {},
   "outputs": [],
   "source": [
    "number = np.arange(3,50)"
   ]
  },
  {
   "cell_type": "code",
   "execution_count": 41,
   "id": "a109ea4b",
   "metadata": {},
   "outputs": [
    {
     "data": {
      "text/plain": [
       "<matplotlib.legend.Legend at 0x26b2702ecd0>"
      ]
     },
     "execution_count": 41,
     "metadata": {},
     "output_type": "execute_result"
    },
    {
     "data": {
      "image/png": "[encoded data removed]",
      "text/plain": [
       "<Figure size 432x288 with 1 Axes>"
      ]
     },
     "metadata": {
      "needs_background": "light"
     },
     "output_type": "display_data"
    }
   ],
   "source": [
    "plt.plot(number, train_err, 'b-o', label = 'train')\n",
    "plt.plot(number, test_err, 'r-o', label = 'test')\n",
    "plt.xlim([np.min(number), np.max(number)])\n",
    "plt.title('Error vs. hidden_layer_sizes')\n",
    "plt.xlabel('hidden_layer_sizes')\n",
    "plt.ylabel('error')\n",
    "plt.legend()"
   ]
  },
  {
   "cell_type": "code",
   "execution_count": 40,
   "id": "78e19183",
   "metadata": {},
   "outputs": [
    {
     "data": {
      "text/plain": [
       "<matplotlib.legend.Legend at 0x26b274a7a60>"
      ]
     },
     "execution_count": 40,
     "metadata": {},
     "output_type": "execute_result"
    },
    {
     "data": {
      "image/png": "[encoded data removed]",
      "text/plain": [
       "<Figure size 432x288 with 1 Axes>"
      ]
     },
     "metadata": {
      "needs_background": "light"
     },
     "output_type": "display_data"
    }
   ],
   "source": [
    "plt.plot(number, train_acc, 'r-o', label = 'train')\n",
    "plt.plot(number, test_acc, 'b-o', label = 'test')\n",
    "plt.xlim([np.min(number), np.max(number)])\n",
    "plt.title('Accuracy vs. hidden_layer_sizes')\n",
    "plt.xlabel('hidden_layer_sizes')\n",
    "plt.ylabel('Accuracy')\n",
    "plt.legend()"
   ]
  },
  {
   "cell_type": "markdown",
   "id": "cebd48fb",
   "metadata": {},
   "source": [
    "### Матрица рассогласования:"
   ]
  },
  {
   "cell_type": "code",
   "execution_count": 43,
   "id": "f71e578f",
   "metadata": {},
   "outputs": [
    {
     "name": "stdout",
     "output_type": "stream",
     "text": [
      "[[7860   47]\n",
      " [  60 7392]]\n"
     ]
    }
   ],
   "source": [
    "from sklearn.metrics import confusion_matrix\n",
    "print(confusion_matrix(y_test_pred, y_test))"
   ]
  },
  {
   "cell_type": "code",
   "execution_count": 45,
   "id": "54e66add",
   "metadata": {},
   "outputs": [
    {
     "data": {
      "image/png": "[encoded data removed]",
      "text/plain": [
       "<Figure size 432x288 with 2 Axes>"
      ]
     },
     "metadata": {
      "needs_background": "light"
     },
     "output_type": "display_data"
    }
   ],
   "source": [
    "M = confusion_matrix(y_test_pred, y_test)\n",
    "M = np.sqrt(M)\n",
    "plt.imshow(M, interpolation = 'nearest')\n",
    "plt.set_cmap('binary')\n",
    "plt.xticks(range(2))\n",
    "plt.yticks(range(2))\n",
    "plt.xlabel(\"true label\")\n",
    "plt.ylabel(\"predicted label\")\n",
    "plt.colorbar()\n",
    "pass"
   ]
  },
  {
   "cell_type": "markdown",
   "id": "5ec88f5f",
   "metadata": {},
   "source": [
    "### Другие метрики качества:"
   ]
  },
  {
   "cell_type": "code",
   "execution_count": 46,
   "id": "48e7a35a",
   "metadata": {},
   "outputs": [
    {
     "name": "stdout",
     "output_type": "stream",
     "text": [
      "              precision    recall  f1-score   support\n",
      "\n",
      "           0       0.99      0.99      0.99      7920\n",
      "           1       0.99      0.99      0.99      7439\n",
      "\n",
      "    accuracy                           0.99     15359\n",
      "   macro avg       0.99      0.99      0.99     15359\n",
      "weighted avg       0.99      0.99      0.99     15359\n",
      "\n"
     ]
    }
   ],
   "source": [
    "from sklearn.metrics import classification_report\n",
    "print(classification_report(y_test, y_test_pred))"
   ]
  }
 ],
 "metadata": {
  "kernelspec": {
   "display_name": "Python 3 (ipykernel)",
   "language": "python",
   "name": "python3"
  },
  "language_info": {
   "codemirror_mode": {
    "name": "ipython",
    "version": 3
   },
   "file_extension": ".py",
   "mimetype": "text/x-python",
   "name": "python",
   "nbconvert_exporter": "python",
   "pygments_lexer": "ipython3",
   "version": "3.8.3"
  }
 },
 "nbformat": 4,
 "nbformat_minor": 5
}
